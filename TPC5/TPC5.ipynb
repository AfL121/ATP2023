{
 "cells": [
  {
   "cell_type": "code",
   "execution_count": 1,
   "metadata": {},
   "outputs": [
    {
     "name": "stdout",
     "output_type": "stream",
     "text": [
      "Escolha a funcionalidade que quer executar '1' : lista no monitor todos os filmes que estão em exibição nas salas do cinema; \n",
      "            '2' :dá como resultado **False** se o lugar já estiver ocupado na sala onde o filme está a ser exibido e dará como resultado **True** se o inverso acontecer;\"\n",
      "            '3' :dá como resultado um novo cinema resultante de acrescentar o lugar à lista dos lugares ocupados, na sala onde está a ser exibido o filme;\n",
      "            '4' :para um dado cinema, lista no monitor para cada sala, o filme que está a ser exibido e o total de lugares disponíveis nessa sala;\n",
      "            '5' :que acrescenta uma sala nova a um cinema;\n"
     ]
    }
   ],
   "source": [
    "nlugares = int\n",
    "Vendidos = [int]\n",
    "filme = str\n",
    "Sala = [nlugares, Vendidos, filme]\n",
    "Cinema = [Sala]\n",
    "\n",
    "def Listar(Cinema):\n",
    "    nomefilme =[]\n",
    "    for x in Cinema :\n",
    "        k = x[2]\n",
    "        nomefilme.append(k)\n",
    "    return nomefilme\n",
    "\n",
    "def Disponivel (Cinema, filme, lugar):\n",
    "    cond= True\n",
    "    for sala in Cinema:\n",
    "        if sala[2]== filme and lugar in sala[1]:\n",
    "                cond= False\n",
    "\n",
    "    return cond\n",
    "\n",
    "def vendebilhete (Cinema,filme,lugar):\n",
    "        if Disponivel(Cinema,filme,lugar):\n",
    "            for sala in Cinema:\n",
    "                 if filme==sala[2]:\n",
    "                    sala[1].append(lugar)\n",
    "        return Cinema \n",
    "\n",
    "def listardisponibilidades(Cinema):\n",
    "    lista=[]\n",
    "    for sala in Cinema:\n",
    "        tuplo=(sala[2], sala[0]-len(sala[1]))\n",
    "        lista.append(tuplo)\n",
    "    return lista\n",
    "\n",
    "def inserirSala(Cinema,sala):\n",
    "    if sala not in Cinema:\n",
    "        Cinema.append(sala)\n",
    "    return Cinema\n",
    "\n",
    "def menu():\n",
    "     print (\"\"\"Escolha a funcionalidade que quer executar '1' : lista no monitor todos os filmes que estão em exibição nas salas do cinema; \n",
    "            '2' :dá como resultado **False** se o lugar já estiver ocupado na sala onde o filme está a ser exibido e dará como resultado **True** se o inverso acontecer;\"\n",
    "            '3' :dá como resultado um novo cinema resultante de acrescentar o lugar à lista dos lugares ocupados, na sala onde está a ser exibido o filme;\n",
    "            '4' :para um dado cinema, lista no monitor para cada sala, o filme que está a ser exibido e o total de lugares disponíveis nessa sala;\n",
    "            '5' :que acrescenta uma sala nova a um cinema;\"\"\")\n",
    "     inp= int(input(\"'1','2','3','4','5'\"))\n",
    "     Cinema=str(input(\"escolha o cinema\"))\n",
    "     if inp == 1:\n",
    "              Listar(Cinema)\n",
    "     if inp == 2:\n",
    "              filme=str(input(\"qual é  filme\"))\n",
    "              lugar=str(input(\"escolha o lugar\"))\n",
    "              Disponivel(Cinema, filme, lugar)\n",
    "     if inp == 3:\n",
    "              filme=str(input(\"qual é  filme\"))\n",
    "              lugar=str(input(\"escolha o lugar\"))\n",
    "              vendebilhete(Cinema,filme,lugar)\n",
    "     if inp ==4:\n",
    "          listardisponibilidades(Cinema)\n",
    "     if inp ==5:\n",
    "          sala=str(input(\"Escolha a sala\"))\n",
    "          inserirSala (Cinema, sala)\n",
    "     \n",
    "          \n",
    "\n",
    "\n",
    "menu()\n"
   ]
  }
 ],
 "metadata": {
  "kernelspec": {
   "display_name": "Python 3",
   "language": "python",
   "name": "python3"
  },
  "language_info": {
   "codemirror_mode": {
    "name": "ipython",
    "version": 3
   },
   "file_extension": ".py",
   "mimetype": "text/x-python",
   "name": "python",
   "nbconvert_exporter": "python",
   "pygments_lexer": "ipython3",
   "version": "3.11.5"
  }
 },
 "nbformat": 4,
 "nbformat_minor": 2
}
