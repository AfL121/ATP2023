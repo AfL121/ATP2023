{
 "cells": [
  {
   "cell_type": "code",
   "execution_count": 1,
   "metadata": {},
   "outputs": [
    {
     "name": "stdout",
     "output_type": "stream",
     "text": [
      "83\n",
      "62\n",
      "43\n",
      "50\n",
      "51\n",
      "53\n",
      "57\n",
      "59\n",
      "61\n",
      "60\n",
      "Consegui acertar em 9\n",
      "60\n",
      "Consegui acertar em 9\n",
      "60\n",
      "60\n"
     ]
    }
   ],
   "source": [
    "import random \n",
    "def jogo1() :\n",
    " tentativas =0\n",
    " n1 = random.randint(1,100)\n",
    " while tentativas < 100 :\n",
    "     n2= int(input(\"Introduza um número de 1 a 100:\"))\n",
    "     if n2 < int (n1) :\n",
    "            print (\"Menor\")\n",
    "            tentativas= tentativas+1\n",
    "     if n2 > int (n1) :\n",
    "            print(\"Maior\")\n",
    "            tentativas= tentativas+1\n",
    "     if n1 == n2 :\n",
    "            tentativas= tentativas+1\n",
    "            print(\"Acertou em\", tentativas)\n",
    "            break\n",
    "def jogo2() :\n",
    " l1= 1\n",
    " l2= 100\n",
    " tent= 0\n",
    " while tent<100 :\n",
    "  n1 = random.randint(l1,l2)\n",
    "  print(n1)\n",
    "  st1 = input(\"Diga se é 'maior', 'menor' ou 'igual'\")\n",
    "  if st1 == \"menor\" :\n",
    "        l2 = n1-1\n",
    "        tent= tent+1\n",
    "  if st1 == \"maior\" :\n",
    "        l1 = n1+1\n",
    "        tent= tent+1\n",
    "  if st1 == \"igual\":\n",
    "      print (\"Consegui acertar em\",tent)\n",
    "      break\n",
    "\n",
    "jogoescolha = input(\"Escolha o modo de jogo ('jogador'/'computador'): \")\n",
    "\n",
    "if jogoescolha == 'jogador':\n",
    "    jogo1()\n",
    "if jogoescolha == 'computador':\n",
    "    jogo2()\n",
    "else:\n",
    "    print(\"Modo de jogo inválido. Escolha 'jogador' ou 'computador'.\")"
   ]
  }
 ],
 "metadata": {
  "kernelspec": {
   "display_name": "Python 3",
   "language": "python",
   "name": "python3"
  },
  "language_info": {
   "codemirror_mode": {
    "name": "ipython",
    "version": 3
   },
   "file_extension": ".py",
   "mimetype": "text/x-python",
   "name": "python",
   "nbconvert_exporter": "python",
   "pygments_lexer": "ipython3",
   "version": "3.11.5"
  },
  "orig_nbformat": 4
 },
 "nbformat": 4,
 "nbformat_minor": 2
}
